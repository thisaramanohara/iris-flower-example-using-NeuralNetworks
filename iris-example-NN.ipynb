{
 "cells": [
  {
   "cell_type": "code",
   "execution_count": 1,
   "metadata": {},
   "outputs": [],
   "source": [
    "import pandas as pd\n",
    "\n",
    "dataset=pd.read_csv('iris.csv').values"
   ]
  },
  {
   "cell_type": "code",
   "execution_count": 2,
   "metadata": {},
   "outputs": [],
   "source": [
    "data=dataset[:,0:4]\n",
    "target=dataset[:,4]"
   ]
  },
  {
   "cell_type": "code",
   "execution_count": 3,
   "metadata": {},
   "outputs": [],
   "source": [
    "from keras.utils import np_utils\n",
    "\n",
    "categorized_target=np_utils.to_categorical(target)"
   ]
  },
  {
   "cell_type": "code",
   "execution_count": 4,
   "metadata": {},
   "outputs": [],
   "source": [
    "from sklearn.model_selection import train_test_split\n",
    "\n",
    "train_data,test_data,train_target,test_target=train_test_split(data,categorized_target,test_size=0.1)"
   ]
  },
  {
   "cell_type": "code",
   "execution_count": 17,
   "metadata": {},
   "outputs": [],
   "source": [
    "from keras.models import Sequential\n",
    "from keras.layers import Dense\n",
    "\n",
    "model=Sequential()\n",
    "model.add(Dense(64,input_dim=4,activation='relu'))\n",
    "model.add(Dense(32,activation='relu'))\n",
    "model.add(Dense(3,activation='softmax'))\n",
    "\n",
    "model.compile(loss='categorical_crossentropy',optimizer='adaGrad',metrics=['accuracy'])"
   ]
  },
  {
   "cell_type": "code",
   "execution_count": 18,
   "metadata": {},
   "outputs": [
    {
     "name": "stdout",
     "output_type": "stream",
     "text": [
      "Model: \"sequential_3\"\n",
      "_________________________________________________________________\n",
      "Layer (type)                 Output Shape              Param #   \n",
      "=================================================================\n",
      "dense_7 (Dense)              (None, 64)                320       \n",
      "_________________________________________________________________\n",
      "dense_8 (Dense)              (None, 32)                2080      \n",
      "_________________________________________________________________\n",
      "dense_9 (Dense)              (None, 3)                 99        \n",
      "=================================================================\n",
      "Total params: 2,499\n",
      "Trainable params: 2,499\n",
      "Non-trainable params: 0\n",
      "_________________________________________________________________\n"
     ]
    }
   ],
   "source": [
    "model.summary()"
   ]
  },
  {
   "cell_type": "code",
   "execution_count": 19,
   "metadata": {},
   "outputs": [
    {
     "name": "stdout",
     "output_type": "stream",
     "text": [
      "Train on 121 samples, validate on 14 samples\n",
      "Epoch 1/200\n",
      "121/121 [==============================] - 0s 2ms/step - loss: 0.9417 - accuracy: 0.5785 - val_loss: 0.7661 - val_accuracy: 0.7143\n",
      "Epoch 2/200\n",
      "121/121 [==============================] - 0s 140us/step - loss: 0.6861 - accuracy: 0.7686 - val_loss: 0.5593 - val_accuracy: 0.9286\n",
      "Epoch 3/200\n",
      "121/121 [==============================] - 0s 157us/step - loss: 0.5815 - accuracy: 0.8512 - val_loss: 0.5219 - val_accuracy: 0.7143\n",
      "Epoch 4/200\n",
      "121/121 [==============================] - 0s 157us/step - loss: 0.5314 - accuracy: 0.8264 - val_loss: 0.4380 - val_accuracy: 0.8571\n",
      "Epoch 5/200\n",
      "121/121 [==============================] - 0s 198us/step - loss: 0.5046 - accuracy: 0.7686 - val_loss: 0.3871 - val_accuracy: 0.9286\n",
      "Epoch 6/200\n",
      "121/121 [==============================] - 0s 182us/step - loss: 0.4581 - accuracy: 0.8182 - val_loss: 0.3567 - val_accuracy: 0.9286\n",
      "Epoch 7/200\n",
      "121/121 [==============================] - 0s 190us/step - loss: 0.4605 - accuracy: 0.8430 - val_loss: 0.3299 - val_accuracy: 1.0000\n",
      "Epoch 8/200\n",
      "121/121 [==============================] - 0s 182us/step - loss: 0.4245 - accuracy: 0.9256 - val_loss: 0.3410 - val_accuracy: 0.8571\n",
      "Epoch 9/200\n",
      "121/121 [==============================] - 0s 190us/step - loss: 0.4177 - accuracy: 0.8512 - val_loss: 0.2952 - val_accuracy: 1.0000\n",
      "Epoch 10/200\n",
      "121/121 [==============================] - 0s 198us/step - loss: 0.3918 - accuracy: 0.9091 - val_loss: 0.2904 - val_accuracy: 1.0000\n",
      "Epoch 11/200\n",
      "121/121 [==============================] - 0s 198us/step - loss: 0.3748 - accuracy: 0.9174 - val_loss: 0.2709 - val_accuracy: 1.0000\n",
      "Epoch 12/200\n",
      "121/121 [==============================] - 0s 190us/step - loss: 0.3562 - accuracy: 0.9256 - val_loss: 0.2566 - val_accuracy: 1.0000\n",
      "Epoch 13/200\n",
      "121/121 [==============================] - 0s 198us/step - loss: 0.3555 - accuracy: 0.9339 - val_loss: 0.2437 - val_accuracy: 1.0000\n",
      "Epoch 14/200\n",
      "121/121 [==============================] - 0s 207us/step - loss: 0.3386 - accuracy: 0.9256 - val_loss: 0.2307 - val_accuracy: 1.0000\n",
      "Epoch 15/200\n",
      "121/121 [==============================] - 0s 190us/step - loss: 0.3422 - accuracy: 0.9091 - val_loss: 0.2492 - val_accuracy: 0.9286\n",
      "Epoch 16/200\n",
      "121/121 [==============================] - 0s 198us/step - loss: 0.3240 - accuracy: 0.9091 - val_loss: 0.2147 - val_accuracy: 1.0000\n",
      "Epoch 17/200\n",
      "121/121 [==============================] - ETA: 0s - loss: 0.3800 - accuracy: 0.90 - 0s 149us/step - loss: 0.3134 - accuracy: 0.9256 - val_loss: 0.2150 - val_accuracy: 1.0000\n",
      "Epoch 18/200\n",
      "121/121 [==============================] - 0s 149us/step - loss: 0.3040 - accuracy: 0.9752 - val_loss: 0.1963 - val_accuracy: 1.0000\n",
      "Epoch 19/200\n",
      "121/121 [==============================] - 0s 173us/step - loss: 0.2899 - accuracy: 0.9504 - val_loss: 0.1894 - val_accuracy: 1.0000\n",
      "Epoch 20/200\n",
      "121/121 [==============================] - 0s 198us/step - loss: 0.2920 - accuracy: 0.9421 - val_loss: 0.1826 - val_accuracy: 1.0000\n",
      "Epoch 21/200\n",
      "121/121 [==============================] - 0s 190us/step - loss: 0.2999 - accuracy: 0.9256 - val_loss: 0.1864 - val_accuracy: 1.0000\n",
      "Epoch 22/200\n",
      "121/121 [==============================] - 0s 190us/step - loss: 0.2893 - accuracy: 0.9174 - val_loss: 0.1694 - val_accuracy: 1.0000\n",
      "Epoch 23/200\n",
      "121/121 [==============================] - 0s 173us/step - loss: 0.2637 - accuracy: 0.9669 - val_loss: 0.1635 - val_accuracy: 1.0000\n",
      "Epoch 24/200\n",
      "121/121 [==============================] - 0s 198us/step - loss: 0.2581 - accuracy: 0.9669 - val_loss: 0.1628 - val_accuracy: 1.0000\n",
      "Epoch 25/200\n",
      "121/121 [==============================] - 0s 231us/step - loss: 0.2691 - accuracy: 0.9256 - val_loss: 0.1553 - val_accuracy: 1.0000\n",
      "Epoch 26/200\n",
      "121/121 [==============================] - 0s 207us/step - loss: 0.2527 - accuracy: 0.9421 - val_loss: 0.1482 - val_accuracy: 1.0000\n",
      "Epoch 27/200\n",
      "121/121 [==============================] - 0s 215us/step - loss: 0.2529 - accuracy: 0.9669 - val_loss: 0.1437 - val_accuracy: 1.0000\n",
      "Epoch 28/200\n",
      "121/121 [==============================] - 0s 223us/step - loss: 0.2418 - accuracy: 0.9587 - val_loss: 0.1399 - val_accuracy: 1.0000\n",
      "Epoch 29/200\n",
      "121/121 [==============================] - 0s 223us/step - loss: 0.2295 - accuracy: 0.9504 - val_loss: 0.1369 - val_accuracy: 1.0000\n",
      "Epoch 30/200\n",
      "121/121 [==============================] - 0s 215us/step - loss: 0.2308 - accuracy: 0.9587 - val_loss: 0.1400 - val_accuracy: 1.0000\n",
      "Epoch 31/200\n",
      "121/121 [==============================] - 0s 182us/step - loss: 0.2275 - accuracy: 0.9587 - val_loss: 0.1350 - val_accuracy: 1.0000\n",
      "Epoch 32/200\n",
      "121/121 [==============================] - 0s 198us/step - loss: 0.2202 - accuracy: 0.9421 - val_loss: 0.1235 - val_accuracy: 1.0000\n",
      "Epoch 33/200\n",
      "121/121 [==============================] - 0s 182us/step - loss: 0.2114 - accuracy: 0.9669 - val_loss: 0.1261 - val_accuracy: 1.0000\n",
      "Epoch 34/200\n",
      "121/121 [==============================] - 0s 223us/step - loss: 0.2115 - accuracy: 0.9752 - val_loss: 0.1167 - val_accuracy: 1.0000\n",
      "Epoch 35/200\n",
      "121/121 [==============================] - 0s 198us/step - loss: 0.2034 - accuracy: 0.9669 - val_loss: 0.1139 - val_accuracy: 1.0000\n",
      "Epoch 36/200\n",
      "121/121 [==============================] - 0s 190us/step - loss: 0.2084 - accuracy: 0.9587 - val_loss: 0.1098 - val_accuracy: 1.0000\n",
      "Epoch 37/200\n",
      "121/121 [==============================] - 0s 223us/step - loss: 0.1992 - accuracy: 0.9587 - val_loss: 0.1240 - val_accuracy: 1.0000\n",
      "Epoch 38/200\n",
      "121/121 [==============================] - 0s 190us/step - loss: 0.2032 - accuracy: 0.9256 - val_loss: 0.1051 - val_accuracy: 1.0000\n",
      "Epoch 39/200\n",
      "121/121 [==============================] - 0s 240us/step - loss: 0.2034 - accuracy: 0.9669 - val_loss: 0.1033 - val_accuracy: 1.0000\n",
      "Epoch 40/200\n",
      "121/121 [==============================] - 0s 207us/step - loss: 0.1953 - accuracy: 0.9587 - val_loss: 0.1009 - val_accuracy: 1.0000\n",
      "Epoch 41/200\n",
      "121/121 [==============================] - 0s 198us/step - loss: 0.1862 - accuracy: 0.9669 - val_loss: 0.0954 - val_accuracy: 1.0000\n",
      "Epoch 42/200\n",
      "121/121 [==============================] - 0s 198us/step - loss: 0.1823 - accuracy: 0.9752 - val_loss: 0.0933 - val_accuracy: 1.0000\n",
      "Epoch 43/200\n",
      "121/121 [==============================] - 0s 190us/step - loss: 0.1832 - accuracy: 0.9752 - val_loss: 0.0904 - val_accuracy: 1.0000\n",
      "Epoch 44/200\n",
      "121/121 [==============================] - 0s 215us/step - loss: 0.1819 - accuracy: 0.9587 - val_loss: 0.0992 - val_accuracy: 1.0000\n",
      "Epoch 45/200\n",
      "121/121 [==============================] - 0s 190us/step - loss: 0.1831 - accuracy: 0.9504 - val_loss: 0.0874 - val_accuracy: 1.0000\n",
      "Epoch 46/200\n",
      "121/121 [==============================] - 0s 190us/step - loss: 0.1716 - accuracy: 0.9669 - val_loss: 0.0850 - val_accuracy: 1.0000\n",
      "Epoch 47/200\n",
      "121/121 [==============================] - 0s 215us/step - loss: 0.1678 - accuracy: 0.9752 - val_loss: 0.0870 - val_accuracy: 1.0000\n",
      "Epoch 48/200\n",
      "121/121 [==============================] - 0s 190us/step - loss: 0.1803 - accuracy: 0.9421 - val_loss: 0.0801 - val_accuracy: 1.0000\n",
      "Epoch 49/200\n",
      "121/121 [==============================] - 0s 198us/step - loss: 0.1643 - accuracy: 0.9752 - val_loss: 0.0805 - val_accuracy: 1.0000\n",
      "Epoch 50/200\n",
      "121/121 [==============================] - 0s 182us/step - loss: 0.1642 - accuracy: 0.9669 - val_loss: 0.0791 - val_accuracy: 1.0000\n",
      "Epoch 51/200\n",
      "121/121 [==============================] - 0s 182us/step - loss: 0.1656 - accuracy: 0.9587 - val_loss: 0.0746 - val_accuracy: 1.0000\n",
      "Epoch 52/200\n",
      "121/121 [==============================] - 0s 174us/step - loss: 0.1585 - accuracy: 0.9752 - val_loss: 0.0743 - val_accuracy: 1.0000\n",
      "Epoch 53/200\n",
      "121/121 [==============================] - 0s 215us/step - loss: 0.1562 - accuracy: 0.9752 - val_loss: 0.0715 - val_accuracy: 1.0000\n",
      "Epoch 54/200\n",
      "121/121 [==============================] - 0s 207us/step - loss: 0.1566 - accuracy: 0.9752 - val_loss: 0.0693 - val_accuracy: 1.0000\n",
      "Epoch 55/200\n",
      "121/121 [==============================] - 0s 198us/step - loss: 0.1527 - accuracy: 0.9669 - val_loss: 0.0673 - val_accuracy: 1.0000\n",
      "Epoch 56/200\n"
     ]
    },
    {
     "name": "stdout",
     "output_type": "stream",
     "text": [
      "121/121 [==============================] - 0s 190us/step - loss: 0.1507 - accuracy: 0.9752 - val_loss: 0.0696 - val_accuracy: 1.0000\n",
      "Epoch 57/200\n",
      "121/121 [==============================] - 0s 207us/step - loss: 0.1509 - accuracy: 0.9504 - val_loss: 0.0638 - val_accuracy: 1.0000\n",
      "Epoch 58/200\n",
      "121/121 [==============================] - 0s 174us/step - loss: 0.1528 - accuracy: 0.9504 - val_loss: 0.0620 - val_accuracy: 1.0000\n",
      "Epoch 59/200\n",
      "121/121 [==============================] - 0s 240us/step - loss: 0.1443 - accuracy: 0.9835 - val_loss: 0.0605 - val_accuracy: 1.0000\n",
      "Epoch 60/200\n",
      "121/121 [==============================] - 0s 231us/step - loss: 0.1481 - accuracy: 0.9669 - val_loss: 0.0597 - val_accuracy: 1.0000\n",
      "Epoch 61/200\n",
      "121/121 [==============================] - 0s 207us/step - loss: 0.1433 - accuracy: 0.9669 - val_loss: 0.0572 - val_accuracy: 1.0000\n",
      "Epoch 62/200\n",
      "121/121 [==============================] - 0s 190us/step - loss: 0.1402 - accuracy: 0.9752 - val_loss: 0.0562 - val_accuracy: 1.0000\n",
      "Epoch 63/200\n",
      "121/121 [==============================] - 0s 166us/step - loss: 0.1393 - accuracy: 0.9752 - val_loss: 0.0546 - val_accuracy: 1.0000\n",
      "Epoch 64/200\n",
      "121/121 [==============================] - 0s 157us/step - loss: 0.1434 - accuracy: 0.9587 - val_loss: 0.0553 - val_accuracy: 1.0000\n",
      "Epoch 65/200\n",
      "121/121 [==============================] - 0s 165us/step - loss: 0.1437 - accuracy: 0.9669 - val_loss: 0.0539 - val_accuracy: 1.0000\n",
      "Epoch 66/200\n",
      "121/121 [==============================] - 0s 157us/step - loss: 0.1337 - accuracy: 0.9752 - val_loss: 0.0518 - val_accuracy: 1.0000\n",
      "Epoch 67/200\n",
      "121/121 [==============================] - 0s 149us/step - loss: 0.1364 - accuracy: 0.9752 - val_loss: 0.0502 - val_accuracy: 1.0000\n",
      "Epoch 68/200\n",
      "121/121 [==============================] - 0s 157us/step - loss: 0.1312 - accuracy: 0.9835 - val_loss: 0.0491 - val_accuracy: 1.0000\n",
      "Epoch 69/200\n",
      "121/121 [==============================] - 0s 149us/step - loss: 0.1323 - accuracy: 0.9587 - val_loss: 0.0497 - val_accuracy: 1.0000\n",
      "Epoch 70/200\n",
      "121/121 [==============================] - 0s 140us/step - loss: 0.1347 - accuracy: 0.9669 - val_loss: 0.0506 - val_accuracy: 1.0000\n",
      "Epoch 71/200\n",
      "121/121 [==============================] - 0s 157us/step - loss: 0.1285 - accuracy: 0.9669 - val_loss: 0.0464 - val_accuracy: 1.0000\n",
      "Epoch 72/200\n",
      "121/121 [==============================] - 0s 157us/step - loss: 0.1293 - accuracy: 0.9752 - val_loss: 0.0493 - val_accuracy: 1.0000\n",
      "Epoch 73/200\n",
      "121/121 [==============================] - 0s 140us/step - loss: 0.1226 - accuracy: 0.9752 - val_loss: 0.0477 - val_accuracy: 1.0000\n",
      "Epoch 74/200\n",
      "121/121 [==============================] - ETA: 0s - loss: 0.1310 - accuracy: 0.96 - 0s 173us/step - loss: 0.1263 - accuracy: 0.9752 - val_loss: 0.0503 - val_accuracy: 1.0000\n",
      "Epoch 75/200\n",
      "121/121 [==============================] - 0s 140us/step - loss: 0.1318 - accuracy: 0.9587 - val_loss: 0.0485 - val_accuracy: 1.0000\n",
      "Epoch 76/200\n",
      "121/121 [==============================] - 0s 165us/step - loss: 0.1243 - accuracy: 0.9669 - val_loss: 0.0437 - val_accuracy: 1.0000\n",
      "Epoch 77/200\n",
      "121/121 [==============================] - 0s 132us/step - loss: 0.1213 - accuracy: 0.9835 - val_loss: 0.0466 - val_accuracy: 1.0000\n",
      "Epoch 78/200\n",
      "121/121 [==============================] - 0s 149us/step - loss: 0.1319 - accuracy: 0.9587 - val_loss: 0.0470 - val_accuracy: 1.0000\n",
      "Epoch 79/200\n",
      "121/121 [==============================] - 0s 132us/step - loss: 0.1202 - accuracy: 0.9752 - val_loss: 0.0410 - val_accuracy: 1.0000\n",
      "Epoch 80/200\n",
      "121/121 [==============================] - 0s 157us/step - loss: 0.1186 - accuracy: 0.9669 - val_loss: 0.0406 - val_accuracy: 1.0000\n",
      "Epoch 81/200\n",
      "121/121 [==============================] - 0s 165us/step - loss: 0.1287 - accuracy: 0.9504 - val_loss: 0.0419 - val_accuracy: 1.0000\n",
      "Epoch 82/200\n",
      "121/121 [==============================] - 0s 157us/step - loss: 0.1174 - accuracy: 0.9752 - val_loss: 0.0412 - val_accuracy: 1.0000\n",
      "Epoch 83/200\n",
      "121/121 [==============================] - 0s 165us/step - loss: 0.1173 - accuracy: 0.9669 - val_loss: 0.0380 - val_accuracy: 1.0000\n",
      "Epoch 84/200\n",
      "121/121 [==============================] - 0s 141us/step - loss: 0.1148 - accuracy: 0.9835 - val_loss: 0.0411 - val_accuracy: 1.0000\n",
      "Epoch 85/200\n",
      "121/121 [==============================] - 0s 165us/step - loss: 0.1150 - accuracy: 0.9752 - val_loss: 0.0369 - val_accuracy: 1.0000\n",
      "Epoch 86/200\n",
      "121/121 [==============================] - 0s 141us/step - loss: 0.1165 - accuracy: 0.9669 - val_loss: 0.0365 - val_accuracy: 1.0000\n",
      "Epoch 87/200\n",
      "121/121 [==============================] - 0s 140us/step - loss: 0.1199 - accuracy: 0.9752 - val_loss: 0.0545 - val_accuracy: 1.0000\n",
      "Epoch 88/200\n",
      "121/121 [==============================] - 0s 165us/step - loss: 0.1209 - accuracy: 0.9669 - val_loss: 0.0351 - val_accuracy: 1.0000\n",
      "Epoch 89/200\n",
      "121/121 [==============================] - 0s 190us/step - loss: 0.1217 - accuracy: 0.9504 - val_loss: 0.0357 - val_accuracy: 1.0000\n",
      "Epoch 90/200\n",
      "121/121 [==============================] - 0s 215us/step - loss: 0.1150 - accuracy: 0.9669 - val_loss: 0.0340 - val_accuracy: 1.0000\n",
      "Epoch 91/200\n",
      "121/121 [==============================] - 0s 182us/step - loss: 0.1100 - accuracy: 0.9669 - val_loss: 0.0357 - val_accuracy: 1.0000\n",
      "Epoch 92/200\n",
      "121/121 [==============================] - 0s 207us/step - loss: 0.1103 - accuracy: 0.9669 - val_loss: 0.0349 - val_accuracy: 1.0000\n",
      "Epoch 93/200\n",
      "121/121 [==============================] - 0s 190us/step - loss: 0.1166 - accuracy: 0.9587 - val_loss: 0.0342 - val_accuracy: 1.0000\n",
      "Epoch 94/200\n",
      "121/121 [==============================] - 0s 207us/step - loss: 0.1180 - accuracy: 0.9504 - val_loss: 0.0322 - val_accuracy: 1.0000\n",
      "Epoch 95/200\n",
      "121/121 [==============================] - 0s 198us/step - loss: 0.1106 - accuracy: 0.9752 - val_loss: 0.0334 - val_accuracy: 1.0000\n",
      "Epoch 96/200\n",
      "121/121 [==============================] - 0s 190us/step - loss: 0.1128 - accuracy: 0.9669 - val_loss: 0.0313 - val_accuracy: 1.0000\n",
      "Epoch 97/200\n",
      "121/121 [==============================] - 0s 207us/step - loss: 0.1081 - accuracy: 0.9752 - val_loss: 0.0321 - val_accuracy: 1.0000\n",
      "Epoch 98/200\n",
      "121/121 [==============================] - 0s 149us/step - loss: 0.1130 - accuracy: 0.9587 - val_loss: 0.0309 - val_accuracy: 1.0000\n",
      "Epoch 99/200\n",
      "121/121 [==============================] - 0s 149us/step - loss: 0.1194 - accuracy: 0.9669 - val_loss: 0.0301 - val_accuracy: 1.0000\n",
      "Epoch 100/200\n",
      "121/121 [==============================] - 0s 157us/step - loss: 0.1079 - accuracy: 0.9669 - val_loss: 0.0296 - val_accuracy: 1.0000\n",
      "Epoch 101/200\n",
      "121/121 [==============================] - 0s 190us/step - loss: 0.1069 - accuracy: 0.9669 - val_loss: 0.0293 - val_accuracy: 1.0000\n",
      "Epoch 102/200\n",
      "121/121 [==============================] - 0s 190us/step - loss: 0.1078 - accuracy: 0.9669 - val_loss: 0.0291 - val_accuracy: 1.0000\n",
      "Epoch 103/200\n",
      "121/121 [==============================] - 0s 198us/step - loss: 0.1045 - accuracy: 0.9752 - val_loss: 0.0361 - val_accuracy: 1.0000\n",
      "Epoch 104/200\n",
      "121/121 [==============================] - 0s 190us/step - loss: 0.1079 - accuracy: 0.9669 - val_loss: 0.0283 - val_accuracy: 1.0000\n",
      "Epoch 105/200\n",
      "121/121 [==============================] - 0s 223us/step - loss: 0.1040 - accuracy: 0.9752 - val_loss: 0.0283 - val_accuracy: 1.0000\n",
      "Epoch 106/200\n",
      "121/121 [==============================] - 0s 198us/step - loss: 0.1020 - accuracy: 0.9752 - val_loss: 0.0280 - val_accuracy: 1.0000\n",
      "Epoch 107/200\n",
      "121/121 [==============================] - 0s 149us/step - loss: 0.1015 - accuracy: 0.9752 - val_loss: 0.0292 - val_accuracy: 1.0000\n",
      "Epoch 108/200\n",
      "121/121 [==============================] - 0s 157us/step - loss: 0.1009 - accuracy: 0.9752 - val_loss: 0.0271 - val_accuracy: 1.0000\n",
      "Epoch 109/200\n",
      "121/121 [==============================] - 0s 165us/step - loss: 0.1072 - accuracy: 0.9669 - val_loss: 0.0270 - val_accuracy: 1.0000\n",
      "Epoch 110/200\n",
      "121/121 [==============================] - ETA: 0s - loss: 0.1122 - accuracy: 0.96 - 0s 198us/step - loss: 0.1063 - accuracy: 0.9669 - val_loss: 0.0283 - val_accuracy: 1.0000\n",
      "Epoch 111/200\n"
     ]
    },
    {
     "name": "stdout",
     "output_type": "stream",
     "text": [
      "121/121 [==============================] - 0s 173us/step - loss: 0.1108 - accuracy: 0.9669 - val_loss: 0.0290 - val_accuracy: 1.0000\n",
      "Epoch 112/200\n",
      "121/121 [==============================] - 0s 174us/step - loss: 0.0998 - accuracy: 0.9752 - val_loss: 0.0264 - val_accuracy: 1.0000\n",
      "Epoch 113/200\n",
      "121/121 [==============================] - 0s 182us/step - loss: 0.1015 - accuracy: 0.9669 - val_loss: 0.0261 - val_accuracy: 1.0000\n",
      "Epoch 114/200\n",
      "121/121 [==============================] - 0s 215us/step - loss: 0.0987 - accuracy: 0.9752 - val_loss: 0.0264 - val_accuracy: 1.0000\n",
      "Epoch 115/200\n",
      "121/121 [==============================] - 0s 198us/step - loss: 0.1120 - accuracy: 0.9504 - val_loss: 0.0252 - val_accuracy: 1.0000\n",
      "Epoch 116/200\n",
      "121/121 [==============================] - 0s 190us/step - loss: 0.1064 - accuracy: 0.9587 - val_loss: 0.0246 - val_accuracy: 1.0000\n",
      "Epoch 117/200\n",
      "121/121 [==============================] - 0s 149us/step - loss: 0.0990 - accuracy: 0.9587 - val_loss: 0.0245 - val_accuracy: 1.0000\n",
      "Epoch 118/200\n",
      "121/121 [==============================] - 0s 157us/step - loss: 0.0986 - accuracy: 0.9669 - val_loss: 0.0241 - val_accuracy: 1.0000\n",
      "Epoch 119/200\n",
      "121/121 [==============================] - 0s 157us/step - loss: 0.1040 - accuracy: 0.9752 - val_loss: 0.0238 - val_accuracy: 1.0000\n",
      "Epoch 120/200\n",
      "121/121 [==============================] - 0s 198us/step - loss: 0.0991 - accuracy: 0.9835 - val_loss: 0.0247 - val_accuracy: 1.0000\n",
      "Epoch 121/200\n",
      "121/121 [==============================] - 0s 173us/step - loss: 0.1001 - accuracy: 0.9669 - val_loss: 0.0237 - val_accuracy: 1.0000\n",
      "Epoch 122/200\n",
      "121/121 [==============================] - 0s 190us/step - loss: 0.0995 - accuracy: 0.9669 - val_loss: 0.0241 - val_accuracy: 1.0000\n",
      "Epoch 123/200\n",
      "121/121 [==============================] - 0s 182us/step - loss: 0.0978 - accuracy: 0.9752 - val_loss: 0.0275 - val_accuracy: 1.0000\n",
      "Epoch 124/200\n",
      "121/121 [==============================] - 0s 198us/step - loss: 0.0986 - accuracy: 0.9669 - val_loss: 0.0253 - val_accuracy: 1.0000\n",
      "Epoch 125/200\n",
      "121/121 [==============================] - 0s 198us/step - loss: 0.0993 - accuracy: 0.9669 - val_loss: 0.0251 - val_accuracy: 1.0000\n",
      "Epoch 126/200\n",
      "121/121 [==============================] - 0s 190us/step - loss: 0.0948 - accuracy: 0.9669 - val_loss: 0.0235 - val_accuracy: 1.0000\n",
      "Epoch 127/200\n",
      "121/121 [==============================] - 0s 182us/step - loss: 0.0955 - accuracy: 0.9669 - val_loss: 0.0279 - val_accuracy: 1.0000\n",
      "Epoch 128/200\n",
      "121/121 [==============================] - 0s 174us/step - loss: 0.0957 - accuracy: 0.9669 - val_loss: 0.0217 - val_accuracy: 1.0000\n",
      "Epoch 129/200\n",
      "121/121 [==============================] - 0s 190us/step - loss: 0.0992 - accuracy: 0.9669 - val_loss: 0.0215 - val_accuracy: 1.0000\n",
      "Epoch 130/200\n",
      "121/121 [==============================] - 0s 215us/step - loss: 0.0947 - accuracy: 0.9752 - val_loss: 0.0250 - val_accuracy: 1.0000\n",
      "Epoch 131/200\n",
      "121/121 [==============================] - 0s 207us/step - loss: 0.0943 - accuracy: 0.9669 - val_loss: 0.0211 - val_accuracy: 1.0000\n",
      "Epoch 132/200\n",
      "121/121 [==============================] - 0s 198us/step - loss: 0.0956 - accuracy: 0.9752 - val_loss: 0.0218 - val_accuracy: 1.0000\n",
      "Epoch 133/200\n",
      "121/121 [==============================] - 0s 207us/step - loss: 0.0999 - accuracy: 0.9669 - val_loss: 0.0213 - val_accuracy: 1.0000\n",
      "Epoch 134/200\n",
      "121/121 [==============================] - 0s 215us/step - loss: 0.1000 - accuracy: 0.9669 - val_loss: 0.0221 - val_accuracy: 1.0000\n",
      "Epoch 135/200\n",
      "121/121 [==============================] - 0s 198us/step - loss: 0.0944 - accuracy: 0.9752 - val_loss: 0.0217 - val_accuracy: 1.0000\n",
      "Epoch 136/200\n",
      "121/121 [==============================] - 0s 215us/step - loss: 0.0943 - accuracy: 0.9752 - val_loss: 0.0206 - val_accuracy: 1.0000\n",
      "Epoch 137/200\n",
      "121/121 [==============================] - 0s 215us/step - loss: 0.0931 - accuracy: 0.9752 - val_loss: 0.0205 - val_accuracy: 1.0000\n",
      "Epoch 138/200\n",
      "121/121 [==============================] - 0s 215us/step - loss: 0.0972 - accuracy: 0.9669 - val_loss: 0.0207 - val_accuracy: 1.0000\n",
      "Epoch 139/200\n",
      "121/121 [==============================] - 0s 215us/step - loss: 0.0918 - accuracy: 0.9669 - val_loss: 0.0195 - val_accuracy: 1.0000\n",
      "Epoch 140/200\n",
      "121/121 [==============================] - 0s 207us/step - loss: 0.1001 - accuracy: 0.9752 - val_loss: 0.0203 - val_accuracy: 1.0000\n",
      "Epoch 141/200\n",
      "121/121 [==============================] - 0s 223us/step - loss: 0.0963 - accuracy: 0.9752 - val_loss: 0.0286 - val_accuracy: 1.0000\n",
      "Epoch 142/200\n",
      "121/121 [==============================] - 0s 215us/step - loss: 0.1106 - accuracy: 0.9421 - val_loss: 0.0200 - val_accuracy: 1.0000\n",
      "Epoch 143/200\n",
      "121/121 [==============================] - 0s 223us/step - loss: 0.0905 - accuracy: 0.9752 - val_loss: 0.0214 - val_accuracy: 1.0000\n",
      "Epoch 144/200\n",
      "121/121 [==============================] - 0s 190us/step - loss: 0.0903 - accuracy: 0.9752 - val_loss: 0.0194 - val_accuracy: 1.0000\n",
      "Epoch 145/200\n",
      "121/121 [==============================] - 0s 207us/step - loss: 0.0901 - accuracy: 0.9835 - val_loss: 0.0212 - val_accuracy: 1.0000\n",
      "Epoch 146/200\n",
      "121/121 [==============================] - 0s 174us/step - loss: 0.0915 - accuracy: 0.9669 - val_loss: 0.0195 - val_accuracy: 1.0000\n",
      "Epoch 147/200\n",
      "121/121 [==============================] - 0s 223us/step - loss: 0.0899 - accuracy: 0.9752 - val_loss: 0.0229 - val_accuracy: 1.0000\n",
      "Epoch 148/200\n",
      "121/121 [==============================] - 0s 223us/step - loss: 0.0925 - accuracy: 0.9587 - val_loss: 0.0197 - val_accuracy: 1.0000\n",
      "Epoch 149/200\n",
      "121/121 [==============================] - 0s 231us/step - loss: 0.0947 - accuracy: 0.9752 - val_loss: 0.0198 - val_accuracy: 1.0000\n",
      "Epoch 150/200\n",
      "121/121 [==============================] - 0s 240us/step - loss: 0.0925 - accuracy: 0.9752 - val_loss: 0.0220 - val_accuracy: 1.0000\n",
      "Epoch 151/200\n",
      "121/121 [==============================] - 0s 190us/step - loss: 0.0890 - accuracy: 0.9669 - val_loss: 0.0192 - val_accuracy: 1.0000\n",
      "Epoch 152/200\n",
      "121/121 [==============================] - 0s 190us/step - loss: 0.0896 - accuracy: 0.9752 - val_loss: 0.0210 - val_accuracy: 1.0000\n",
      "Epoch 153/200\n",
      "121/121 [==============================] - 0s 207us/step - loss: 0.0917 - accuracy: 0.9587 - val_loss: 0.0229 - val_accuracy: 1.0000\n",
      "Epoch 154/200\n",
      "121/121 [==============================] - 0s 198us/step - loss: 0.0922 - accuracy: 0.9752 - val_loss: 0.0201 - val_accuracy: 1.0000\n",
      "Epoch 155/200\n",
      "121/121 [==============================] - 0s 223us/step - loss: 0.0906 - accuracy: 0.9669 - val_loss: 0.0171 - val_accuracy: 1.0000\n",
      "Epoch 156/200\n",
      "121/121 [==============================] - 0s 215us/step - loss: 0.0878 - accuracy: 0.9752 - val_loss: 0.0196 - val_accuracy: 1.0000\n",
      "Epoch 157/200\n",
      "121/121 [==============================] - 0s 265us/step - loss: 0.0885 - accuracy: 0.9752 - val_loss: 0.0207 - val_accuracy: 1.0000\n",
      "Epoch 158/200\n",
      "121/121 [==============================] - 0s 207us/step - loss: 0.0890 - accuracy: 0.9669 - val_loss: 0.0211 - val_accuracy: 1.0000\n",
      "Epoch 159/200\n",
      "121/121 [==============================] - 0s 207us/step - loss: 0.0872 - accuracy: 0.9669 - val_loss: 0.0180 - val_accuracy: 1.0000\n",
      "Epoch 160/200\n",
      "121/121 [==============================] - 0s 182us/step - loss: 0.0904 - accuracy: 0.9752 - val_loss: 0.0166 - val_accuracy: 1.0000\n",
      "Epoch 161/200\n",
      "121/121 [==============================] - 0s 215us/step - loss: 0.0933 - accuracy: 0.9752 - val_loss: 0.0163 - val_accuracy: 1.0000\n",
      "Epoch 162/200\n",
      "121/121 [==============================] - 0s 231us/step - loss: 0.0941 - accuracy: 0.9752 - val_loss: 0.0165 - val_accuracy: 1.0000\n",
      "Epoch 163/200\n",
      "121/121 [==============================] - 0s 198us/step - loss: 0.0891 - accuracy: 0.9835 - val_loss: 0.0225 - val_accuracy: 1.0000\n",
      "Epoch 164/200\n",
      "121/121 [==============================] - 0s 207us/step - loss: 0.0908 - accuracy: 0.9752 - val_loss: 0.0174 - val_accuracy: 1.0000\n",
      "Epoch 165/200\n",
      "121/121 [==============================] - 0s 182us/step - loss: 0.0866 - accuracy: 0.9752 - val_loss: 0.0167 - val_accuracy: 1.0000\n",
      "Epoch 166/200\n",
      "121/121 [==============================] - 0s 198us/step - loss: 0.0860 - accuracy: 0.9835 - val_loss: 0.0184 - val_accuracy: 1.0000\n"
     ]
    },
    {
     "name": "stdout",
     "output_type": "stream",
     "text": [
      "Epoch 167/200\n",
      "121/121 [==============================] - 0s 223us/step - loss: 0.0877 - accuracy: 0.9835 - val_loss: 0.0188 - val_accuracy: 1.0000\n",
      "Epoch 168/200\n",
      "121/121 [==============================] - 0s 207us/step - loss: 0.0963 - accuracy: 0.9669 - val_loss: 0.0168 - val_accuracy: 1.0000\n",
      "Epoch 169/200\n",
      "121/121 [==============================] - 0s 198us/step - loss: 0.0848 - accuracy: 0.9752 - val_loss: 0.0174 - val_accuracy: 1.0000\n",
      "Epoch 170/200\n",
      "121/121 [==============================] - 0s 223us/step - loss: 0.0953 - accuracy: 0.9669 - val_loss: 0.0159 - val_accuracy: 1.0000\n",
      "Epoch 171/200\n",
      "121/121 [==============================] - 0s 240us/step - loss: 0.0903 - accuracy: 0.9669 - val_loss: 0.0152 - val_accuracy: 1.0000\n",
      "Epoch 172/200\n",
      "121/121 [==============================] - 0s 207us/step - loss: 0.0870 - accuracy: 0.9752 - val_loss: 0.0194 - val_accuracy: 1.0000\n",
      "Epoch 173/200\n",
      "121/121 [==============================] - 0s 190us/step - loss: 0.0878 - accuracy: 0.9669 - val_loss: 0.0152 - val_accuracy: 1.0000\n",
      "Epoch 174/200\n",
      "121/121 [==============================] - 0s 207us/step - loss: 0.0906 - accuracy: 0.9669 - val_loss: 0.0149 - val_accuracy: 1.0000\n",
      "Epoch 175/200\n",
      "121/121 [==============================] - 0s 207us/step - loss: 0.0877 - accuracy: 0.9752 - val_loss: 0.0159 - val_accuracy: 1.0000\n",
      "Epoch 176/200\n",
      "121/121 [==============================] - 0s 207us/step - loss: 0.0879 - accuracy: 0.9752 - val_loss: 0.0149 - val_accuracy: 1.0000\n",
      "Epoch 177/200\n",
      "121/121 [==============================] - 0s 207us/step - loss: 0.0872 - accuracy: 0.9669 - val_loss: 0.0160 - val_accuracy: 1.0000\n",
      "Epoch 178/200\n",
      "121/121 [==============================] - 0s 207us/step - loss: 0.0851 - accuracy: 0.9752 - val_loss: 0.0162 - val_accuracy: 1.0000\n",
      "Epoch 179/200\n",
      "121/121 [==============================] - 0s 190us/step - loss: 0.0903 - accuracy: 0.9752 - val_loss: 0.0161 - val_accuracy: 1.0000\n",
      "Epoch 180/200\n",
      "121/121 [==============================] - 0s 174us/step - loss: 0.0936 - accuracy: 0.9669 - val_loss: 0.0229 - val_accuracy: 1.0000\n",
      "Epoch 181/200\n",
      "121/121 [==============================] - 0s 207us/step - loss: 0.0868 - accuracy: 0.9752 - val_loss: 0.0146 - val_accuracy: 1.0000\n",
      "Epoch 182/200\n",
      "121/121 [==============================] - 0s 215us/step - loss: 0.0858 - accuracy: 0.9752 - val_loss: 0.0154 - val_accuracy: 1.0000\n",
      "Epoch 183/200\n",
      "121/121 [==============================] - 0s 190us/step - loss: 0.0848 - accuracy: 0.9752 - val_loss: 0.0142 - val_accuracy: 1.0000\n",
      "Epoch 184/200\n",
      "121/121 [==============================] - 0s 190us/step - loss: 0.0860 - accuracy: 0.9752 - val_loss: 0.0158 - val_accuracy: 1.0000\n",
      "Epoch 185/200\n",
      "121/121 [==============================] - 0s 190us/step - loss: 0.0849 - accuracy: 0.9669 - val_loss: 0.0148 - val_accuracy: 1.0000\n",
      "Epoch 186/200\n",
      "121/121 [==============================] - 0s 207us/step - loss: 0.0843 - accuracy: 0.9835 - val_loss: 0.0194 - val_accuracy: 1.0000\n",
      "Epoch 187/200\n",
      "121/121 [==============================] - 0s 231us/step - loss: 0.0847 - accuracy: 0.9752 - val_loss: 0.0144 - val_accuracy: 1.0000\n",
      "Epoch 188/200\n",
      "121/121 [==============================] - 0s 182us/step - loss: 0.0842 - accuracy: 0.9835 - val_loss: 0.0183 - val_accuracy: 1.0000\n",
      "Epoch 189/200\n",
      "121/121 [==============================] - 0s 182us/step - loss: 0.0829 - accuracy: 0.9669 - val_loss: 0.0155 - val_accuracy: 1.0000\n",
      "Epoch 190/200\n",
      "121/121 [==============================] - 0s 174us/step - loss: 0.0870 - accuracy: 0.9669 - val_loss: 0.0137 - val_accuracy: 1.0000\n",
      "Epoch 191/200\n",
      "121/121 [==============================] - 0s 156us/step - loss: 0.0864 - accuracy: 0.9587 - val_loss: 0.0134 - val_accuracy: 1.0000\n",
      "Epoch 192/200\n",
      "121/121 [==============================] - 0s 182us/step - loss: 0.0825 - accuracy: 0.9835 - val_loss: 0.0172 - val_accuracy: 1.0000\n",
      "Epoch 193/200\n",
      "121/121 [==============================] - 0s 190us/step - loss: 0.0841 - accuracy: 0.9669 - val_loss: 0.0146 - val_accuracy: 1.0000\n",
      "Epoch 194/200\n",
      "121/121 [==============================] - 0s 207us/step - loss: 0.0830 - accuracy: 0.9752 - val_loss: 0.0135 - val_accuracy: 1.0000\n",
      "Epoch 195/200\n",
      "121/121 [==============================] - 0s 207us/step - loss: 0.0830 - accuracy: 0.9752 - val_loss: 0.0136 - val_accuracy: 1.0000\n",
      "Epoch 196/200\n",
      "121/121 [==============================] - 0s 182us/step - loss: 0.0844 - accuracy: 0.9669 - val_loss: 0.0155 - val_accuracy: 1.0000\n",
      "Epoch 197/200\n",
      "121/121 [==============================] - 0s 165us/step - loss: 0.0814 - accuracy: 0.9752 - val_loss: 0.0150 - val_accuracy: 1.0000\n",
      "Epoch 198/200\n",
      "121/121 [==============================] - 0s 190us/step - loss: 0.0823 - accuracy: 0.9835 - val_loss: 0.0154 - val_accuracy: 1.0000\n",
      "Epoch 199/200\n",
      "121/121 [==============================] - 0s 198us/step - loss: 0.0823 - accuracy: 0.9752 - val_loss: 0.0153 - val_accuracy: 1.0000\n",
      "Epoch 200/200\n",
      "121/121 [==============================] - 0s 182us/step - loss: 0.0867 - accuracy: 0.9669 - val_loss: 0.0133 - val_accuracy: 1.0000\n"
     ]
    },
    {
     "data": {
      "text/plain": [
       "<keras.callbacks.callbacks.History at 0x158186a4bc8>"
      ]
     },
     "execution_count": 19,
     "metadata": {},
     "output_type": "execute_result"
    }
   ],
   "source": [
    "model.fit(train_data,train_target,epochs=200,validation_split=0.1)"
   ]
  },
  {
   "cell_type": "code",
   "execution_count": 26,
   "metadata": {},
   "outputs": [
    {
     "data": {
      "image/png": "[encoded data removed]",
      "text/plain": [
       "<Figure size 432x288 with 1 Axes>"
      ]
     },
     "metadata": {
      "needs_background": "light"
     },
     "output_type": "display_data"
    }
   ],
   "source": [
    "from matplotlib import pyplot as plt\n",
    "\n",
    "plt.plot(model.history.history['loss'],label='loss')\n",
    "plt.plot(model.history.history['val_loss'],label='val_loss')\n",
    "plt.xlabel('Number of epochs')\n",
    "plt.ylabel('loss')\n",
    "plt.legend()\n",
    "plt.show()"
   ]
  },
  {
   "cell_type": "code",
   "execution_count": 27,
   "metadata": {},
   "outputs": [
    {
     "data": {
      "image/png": "[encoded data removed]",
      "text/plain": [
       "<Figure size 432x288 with 1 Axes>"
      ]
     },
     "metadata": {
      "needs_background": "light"
     },
     "output_type": "display_data"
    }
   ],
   "source": [
    "plt.plot(model.history.history['accuracy'],label='accuracy')\n",
    "plt.plot(model.history.history['val_accuracy'],label='val_accuracy')\n",
    "plt.xlabel('Number of epochs')\n",
    "plt.ylabel('loss')\n",
    "plt.legend()\n",
    "plt.show()"
   ]
  },
  {
   "cell_type": "code",
   "execution_count": 34,
   "metadata": {},
   "outputs": [
    {
     "name": "stdout",
     "output_type": "stream",
     "text": [
      "[0 1 0 2 1 0 1 0 2 2 2 1 1 2 2]\n"
     ]
    }
   ],
   "source": [
    "predicted_target=model.predict(test_data)\n",
    "print(np.argmax(predicted_target,axis=1))"
   ]
  },
  {
   "cell_type": "code",
   "execution_count": 35,
   "metadata": {},
   "outputs": [
    {
     "name": "stdout",
     "output_type": "stream",
     "text": [
      "[0 1 0 2 1 0 1 0 2 2 2 1 1 2 2]\n"
     ]
    }
   ],
   "source": [
    "print(np.argmax(test_target,axis=1))"
   ]
  },
  {
   "cell_type": "code",
   "execution_count": 37,
   "metadata": {},
   "outputs": [
    {
     "name": "stdout",
     "output_type": "stream",
     "text": [
      "1.0\n"
     ]
    }
   ],
   "source": [
    "from sklearn.metrics import accuracy_score\n",
    "\n",
    "accuracy=accuracy_score(np.argmax(test_target,axis=1),np.argmax(predicted_target,axis=1))\n",
    "print(accuracy)"
   ]
  },
  {
   "cell_type": "code",
   "execution_count": 43,
   "metadata": {},
   "outputs": [
    {
     "name": "stdout",
     "output_type": "stream",
     "text": [
      "[[4.4171444e-11 4.3242970e-05 9.9995673e-01]]\n"
     ]
    }
   ],
   "source": [
    "import numpy as np\n",
    "\n",
    "custom_input=np.array([5.2,2.7,4.4,3.1]).reshape(1,-1)\n",
    "predicted_custom=model.predict(custom_input)\n",
    "print(predicted_custom)"
   ]
  },
  {
   "cell_type": "code",
   "execution_count": 44,
   "metadata": {},
   "outputs": [
    {
     "name": "stdout",
     "output_type": "stream",
     "text": [
      "2\n"
     ]
    }
   ],
   "source": [
    "#get the result\n",
    "\n",
    "custom_result=np.argmax(predicted_custom)\n",
    "print(custom_result)"
   ]
  },
  {
   "cell_type": "code",
   "execution_count": 45,
   "metadata": {},
   "outputs": [],
   "source": [
    "model.save_weights('iris_weights.h5')  #to save only weights\n",
    "model.save('iris.model')  #to save the whole model"
   ]
  },
  {
   "cell_type": "code",
   "execution_count": null,
   "metadata": {},
   "outputs": [],
   "source": []
  }
 ],
 "metadata": {
  "kernelspec": {
   "display_name": "Python 3",
   "language": "python",
   "name": "python3"
  },
  "language_info": {
   "codemirror_mode": {
    "name": "ipython",
    "version": 3
   },
   "file_extension": ".py",
   "mimetype": "text/x-python",
   "name": "python",
   "nbconvert_exporter": "python",
   "pygments_lexer": "ipython3",
   "version": "3.7.9"
  }
 },
 "nbformat": 4,
 "nbformat_minor": 4
}
